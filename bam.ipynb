{
  "nbformat": 4,
  "nbformat_minor": 0,
  "metadata": {
    "colab": {
      "name": "NNDL_HW3_Q4.ipynb",
      "provenance": [],
      "collapsed_sections": []
    },
    "kernelspec": {
      "name": "python3",
      "display_name": "Python 3"
    },
    "language_info": {
      "name": "python"
    }
  },
  "cells": [
    {
      "cell_type": "markdown",
      "metadata": {
        "id": "QHmg2meAV7Wb"
      },
      "source": [
        "# **4 - BAM Network**"
      ]
    },
    {
      "cell_type": "code",
      "metadata": {
        "id": "4Wqxouz5Agy6"
      },
      "source": [
        "import random\n",
        "import numpy as np\n",
        "import matplotlib.pyplot as plt"
      ],
      "execution_count": null,
      "outputs": []
    },
    {
      "cell_type": "markdown",
      "metadata": {
        "id": "5x6ZXz6ECt1W"
      },
      "source": [
        "### Pattern"
      ]
    },
    {
      "cell_type": "code",
      "metadata": {
        "id": "aL1zTappCruh"
      },
      "source": [
        "words_5_3 = {}\n",
        "words_5_3['A'] = [[-1 for i in range(3)] for j in range(5)]\n",
        "words_5_3['B'] = [[-1 for i in range(3)] for j in range(5)]\n",
        "words_5_3['C'] = [[-1 for i in range(3)] for j in range(5)]\n",
        "words_5_3['D'] = [[-1 for i in range(3)] for j in range(5)]\n",
        "words_5_3['E'] = [[-1 for i in range(3)] for j in range(5)]\n",
        "words_5_3['F'] = [[-1 for i in range(3)] for j in range(5)]\n",
        "words_5_3['G'] = [[-1 for i in range(3)] for j in range(5)]\n",
        "words_5_3['H'] = [[-1 for i in range(3)] for j in range(5)]\n",
        "\n",
        "pattern_5_3 = {}\n",
        "pattern_5_3['A'] = [(0, 1), (1, 0), (1, 2), (2, 0), (2, 1), (2, 2), (3, 0), \n",
        "                    (3, 2), (4, 0), (4, 2)]\n",
        "pattern_5_3['B'] = [(0, 0), (0, 1), (1, 0), (1, 2), (2, 0), (2, 1), (3, 0),\n",
        "                    (3, 2), (4, 0), (4, 1)]\n",
        "pattern_5_3['C'] = [(0, 1), (0, 2), (1, 0), (2, 0), (3, 0), (4, 1), (4, 2)]\n",
        "\n",
        "pattern_5_3['D'] = [(0, 0), (0, 1), (1, 0), (1, 2), (2, 0), (2, 2), (3, 0),\n",
        "                    (3, 2), (4, 0), (4, 1)]\n",
        "\n",
        "pattern_5_3['E'] = [(0, 0), (0, 1), (1, 0), (0, 2), (2, 0), (2, 1), (3, 0),\n",
        "                    (4, 2), (4, 0), (4, 1)]\n",
        "\n",
        "pattern_5_3['F'] = [(0, 0), (0, 1), (1, 0), (0, 2), (2, 0), (2, 1), (3, 0),\n",
        "                    (4, 0)]\n",
        "\n",
        "pattern_5_3['G'] = [(0, 1), (0, 2), (1, 0), (2, 0), (3, 0), (4, 1), (4, 2),\n",
        "                    (2, 2), (3, 2)]\n",
        "\n",
        "pattern_5_3['H'] = [(0, 0), (0, 2), (1, 0), (1, 2), (2, 0), (2, 1), (2, 2), (3, 0), \n",
        "                    (3, 2), (4, 0), (4, 2)]\n",
        "\n",
        "for pattern in pattern_5_3['A']:\n",
        "  words_5_3['A'][pattern[0]][pattern[1]] = 1\n",
        "\n",
        "for pattern in pattern_5_3['B']:\n",
        "  words_5_3['B'][pattern[0]][pattern[1]] = 1\n",
        "\n",
        "for pattern in pattern_5_3['C']:\n",
        "  words_5_3['C'][pattern[0]][pattern[1]] = 1\n",
        "\n",
        "for pattern in pattern_5_3['D']:\n",
        "  words_5_3['D'][pattern[0]][pattern[1]] = 1\n",
        "\n",
        "for pattern in pattern_5_3['E']:\n",
        "  words_5_3['E'][pattern[0]][pattern[1]] = 1\n",
        "\n",
        "for pattern in pattern_5_3['F']:\n",
        "  words_5_3['F'][pattern[0]][pattern[1]] = 1\n",
        "\n",
        "for pattern in pattern_5_3['G']:\n",
        "  words_5_3['G'][pattern[0]][pattern[1]] = 1\n",
        "\n",
        "for pattern in pattern_5_3['H']:\n",
        "  words_5_3['H'][pattern[0]][pattern[1]] = 1"
      ],
      "execution_count": null,
      "outputs": []
    },
    {
      "cell_type": "code",
      "metadata": {
        "id": "BhCaDdQOF5U4"
      },
      "source": [
        "outs = {}\n",
        "outs['A'] = [-1, -1, -1]\n",
        "outs['B'] = [-1, -1, 1]\n",
        "outs['C'] = [-1, 1, -1]\n",
        "outs['D'] = [-1, 1, 1]\n",
        "outs['E'] = [1, -1, -1]\n",
        "outs['F'] = [1, -1, 1]\n",
        "outs['G'] = [1, 1, -1]\n",
        "outs['H'] = [1, 1, 1]"
      ],
      "execution_count": null,
      "outputs": []
    },
    {
      "cell_type": "code",
      "metadata": {
        "id": "HkDth27qEVWV"
      },
      "source": [
        "def do_hebbian_rule(s, t):\n",
        "  w = np.dot(s.T, t)\n",
        "  return w"
      ],
      "execution_count": null,
      "outputs": []
    },
    {
      "cell_type": "code",
      "metadata": {
        "id": "Ukyr-MviFfOM"
      },
      "source": [
        "def add_noise(noise_rate, inputs, alternative):\n",
        "  noisy_inputs = inputs.copy()\n",
        "  for input in noisy_inputs:\n",
        "    noise_count = int(noise_rate * len(input))\n",
        "    noises_index = random.sample(range(len(input)), noise_count)\n",
        "    for noise_index in noises_index:\n",
        "      input[noise_index] = alternative * input[noise_index]\n",
        "  return noisy_inputs"
      ],
      "execution_count": null,
      "outputs": []
    },
    {
      "cell_type": "markdown",
      "metadata": {
        "id": "87z3EfHCFx6b"
      },
      "source": [
        "### Train Model for A, B, C"
      ]
    },
    {
      "cell_type": "code",
      "metadata": {
        "id": "yle18RcbFzRf"
      },
      "source": [
        "S = np.array(list(words_5_3.values())[0:3]).reshape(3, 15)\n",
        "T = np.array(list(outs.values())[0:3])\n",
        "W = do_hebbian_rule(S, T)"
      ],
      "execution_count": null,
      "outputs": []
    },
    {
      "cell_type": "code",
      "metadata": {
        "colab": {
          "base_uri": "https://localhost:8080/"
        },
        "id": "Op80XPs8bZ0D",
        "outputId": "8b275f45-ac62-4aa9-d350-a35283b06008"
      },
      "source": [
        "print(W)"
      ],
      "execution_count": null,
      "outputs": [
        {
          "output_type": "stream",
          "text": [
            "[[ 1 -1  3]\n",
            " [-3 -1 -1]\n",
            " [ 1  3 -1]\n",
            " [-3 -1 -1]\n",
            " [ 3  1  1]\n",
            " [-1 -3  1]\n",
            " [-3 -1 -1]\n",
            " [-1 -3  1]\n",
            " [ 1 -1 -1]\n",
            " [-3 -1 -1]\n",
            " [ 3  1  1]\n",
            " [-1 -3  1]\n",
            " [-1 -3  1]\n",
            " [-1  1  1]\n",
            " [-1  1 -3]]\n"
          ],
          "name": "stdout"
        }
      ]
    },
    {
      "cell_type": "markdown",
      "metadata": {
        "id": "Xl1YFtv0IsbI"
      },
      "source": [
        "### Test Network"
      ]
    },
    {
      "cell_type": "code",
      "metadata": {
        "id": "Mb5FPoD7IpzO"
      },
      "source": [
        "def bam(s, T, S,  W, iterate_num=30):\n",
        "  previous_y = []\n",
        "  converged = False\n",
        "  # Step 2a\n",
        "  x = s.copy()\n",
        "  # Step 2b\n",
        "  y = np.array([0 for i in range(len(T[0]))])\n",
        "  # Step 3\n",
        "  for i in range(iterate_num):\n",
        "    if converged: break\n",
        "    # Step 4\n",
        "    y_in = np.dot(x, W)\n",
        "    previous_y.append(y.copy())\n",
        "    #  y_in = np.dot(x, W.T)\n",
        "    y = np.where(y_in > 0, 1, -1)  \n",
        "    # Step 5\n",
        "    x_in = np.dot(y, W.T)\n",
        "    # x_in = np.dot(y, W)\n",
        "    x = np.where(x_in > 0, 1, -1) \n",
        "    pattern_y_exist = False\n",
        "    pattern_x_exist = False\n",
        "    y_exist = False\n",
        "    for t in T:\n",
        "      if np.array_equal(y, t):\n",
        "        pattern_y_exist = True\n",
        "        break\n",
        "    for s_actual in S:\n",
        "      if np.array_equal(x, s_actual):\n",
        "        pattern_x_exist = True\n",
        "        break\n",
        "    for previous in previous_y:\n",
        "      if np.array_equal(y, previous):\n",
        "        y_exist = True\n",
        "        break\n",
        "    if (pattern_x_exist and pattern_y_exist) or y_exist:\n",
        "      converged = True\n",
        "  return y"
      ],
      "execution_count": null,
      "outputs": []
    },
    {
      "cell_type": "code",
      "metadata": {
        "colab": {
          "base_uri": "https://localhost:8080/"
        },
        "id": "T4VMbDEcTP7B",
        "outputId": "8fe6a79f-f4d4-4682-ffe5-f58ca4c8b2b6"
      },
      "source": [
        "A = S[0]\n",
        "B = S[1]\n",
        "C = S[2]\n",
        "\n",
        "A_prediction = bam(A, T, S, W)\n",
        "B_prediction = bam(B, T, S, W)\n",
        "C_prediction = bam(C, T, S, W)\n",
        "print('A:')\n",
        "print('Actual Output = {}, Model Output = {}'.format(T[0], A_prediction))\n",
        "print('B:')\n",
        "print('Actual Output = {}, Model Output = {}'.format(T[1], B_prediction))\n",
        "print('C:')\n",
        "print('Actual Output = {}, Model Output = {}'.format(T[2], C_prediction))"
      ],
      "execution_count": null,
      "outputs": [
        {
          "output_type": "stream",
          "text": [
            "A:\n",
            "Actual Output = [-1 -1 -1], Model Output = [-1 -1 -1]\n",
            "B:\n",
            "Actual Output = [-1 -1  1], Model Output = [-1 -1  1]\n",
            "C:\n",
            "Actual Output = [-1  1 -1], Model Output = [-1  1 -1]\n"
          ],
          "name": "stdout"
        }
      ]
    },
    {
      "cell_type": "code",
      "metadata": {
        "colab": {
          "base_uri": "https://localhost:8080/"
        },
        "id": "YXUBGfVCYKYu",
        "outputId": "e53768ea-a3c5-462e-fb16-2c1d7328ba39"
      },
      "source": [
        "A_prediction = bam(T[0], S, T, W.T)\n",
        "B_prediction = bam(T[1], S, T, W.T)\n",
        "C_prediction = bam(T[2], S, T, W.T)\n",
        "print('A:')\n",
        "print('Actual Output = ')\n",
        "print(np.where(S[0].reshape(5, 3) == 1, '#', '.'))\n",
        "print('Model Output = ')\n",
        "print(np.where(A_prediction.reshape(5, 3) == 1, '#', '.'))\n",
        "print('B:')\n",
        "print('Actual Output = ')\n",
        "print(np.where(S[1].reshape(5, 3) == 1, '#', '.'))\n",
        "print('Model Output = ')\n",
        "print(np.where(B_prediction.reshape(5, 3) == 1, '#', '.'))\n",
        "print('C:')\n",
        "print('Actual Output = ')\n",
        "print(np.where(S[2].reshape(5, 3) == 1, '#', '.'))\n",
        "print('Model Output = ')\n",
        "print(np.where(C_prediction.reshape(5, 3) == 1, '#', '.'))"
      ],
      "execution_count": null,
      "outputs": [
        {
          "output_type": "stream",
          "text": [
            "A:\n",
            "Actual Output = \n",
            "[['.' '#' '.']\n",
            " ['#' '.' '#']\n",
            " ['#' '#' '#']\n",
            " ['#' '.' '#']\n",
            " ['#' '.' '#']]\n",
            "Model Output = \n",
            "[['.' '#' '.']\n",
            " ['#' '.' '#']\n",
            " ['#' '#' '#']\n",
            " ['#' '.' '#']\n",
            " ['#' '.' '#']]\n",
            "B:\n",
            "Actual Output = \n",
            "[['#' '#' '.']\n",
            " ['#' '.' '#']\n",
            " ['#' '#' '.']\n",
            " ['#' '.' '#']\n",
            " ['#' '#' '.']]\n",
            "Model Output = \n",
            "[['#' '#' '.']\n",
            " ['#' '.' '#']\n",
            " ['#' '#' '.']\n",
            " ['#' '.' '#']\n",
            " ['#' '#' '.']]\n",
            "C:\n",
            "Actual Output = \n",
            "[['.' '#' '#']\n",
            " ['#' '.' '.']\n",
            " ['#' '.' '.']\n",
            " ['#' '.' '.']\n",
            " ['.' '#' '#']]\n",
            "Model Output = \n",
            "[['.' '#' '#']\n",
            " ['#' '.' '.']\n",
            " ['#' '.' '.']\n",
            " ['#' '.' '.']\n",
            " ['.' '#' '#']]\n"
          ],
          "name": "stdout"
        }
      ]
    },
    {
      "cell_type": "code",
      "metadata": {
        "id": "qvoe_SkRFpvp"
      },
      "source": [
        "def run_model(S, W, T, count, alternative, noise_rate):\n",
        "  correct_count = {'A':0, 'B':0, 'C':0}\n",
        "  accuracy = {'A':0, 'B':0, 'C':0}\n",
        "  predictions = {}\n",
        "  for i in range(count):\n",
        "    s = add_noise(noise_rate, S, alternative)\n",
        "    predictions['A'] = bam(s[0], T, S, W)\n",
        "    predictions['B'] = bam(s[1], T, S, W)\n",
        "    predictions['C'] = bam(s[2], T, S, W)  \n",
        "    if(np.array_equal(predictions['A'], T[0])): correct_count['A'] += 1\n",
        "    if(np.array_equal(predictions['B'], T[1])): correct_count['B'] += 1\n",
        "    if(np.array_equal(predictions['C'], T[2])): correct_count['C'] += 1\n",
        "  accuracy['A'] = float(correct_count['A']) / count\n",
        "  accuracy['B'] = float(correct_count['B']) / count\n",
        "  accuracy['C'] = float(correct_count['C']) / count\n",
        "  return accuracy"
      ],
      "execution_count": null,
      "outputs": []
    },
    {
      "cell_type": "code",
      "metadata": {
        "id": "YNHfjg4rFtl2"
      },
      "source": [
        "def print_result(accs, noise_percentage, noise):\n",
        "  print('Result of making {}% of data {}:'.format(noise_percentage, noise))\n",
        "  for word, acc in accs.items():\n",
        "    print('{} Accuracy is: {}%'.format(word, acc*100))"
      ],
      "execution_count": null,
      "outputs": []
    },
    {
      "cell_type": "markdown",
      "metadata": {
        "id": "OgDwmzgDfpLC"
      },
      "source": [
        "### 10% Noise"
      ]
    },
    {
      "cell_type": "code",
      "metadata": {
        "colab": {
          "base_uri": "https://localhost:8080/"
        },
        "id": "Ya3cj7NufOLq",
        "outputId": "dc0a68a0-e968-4df5-d241-e2b919d8e825"
      },
      "source": [
        "accuracy = run_model(S, W, T, 100, -1, 0.1)\n",
        "print_result(accuracy, 10, 'Negative')"
      ],
      "execution_count": null,
      "outputs": [
        {
          "output_type": "stream",
          "text": [
            "Result of making 10% of data Negative:\n",
            "A Accuracy is: 100.0%\n",
            "B Accuracy is: 100.0%\n",
            "C Accuracy is: 100.0%\n"
          ],
          "name": "stdout"
        }
      ]
    },
    {
      "cell_type": "markdown",
      "metadata": {
        "id": "cHHyqMJLfrO-"
      },
      "source": [
        "### 40% Noise"
      ]
    },
    {
      "cell_type": "code",
      "metadata": {
        "colab": {
          "base_uri": "https://localhost:8080/"
        },
        "id": "ERHxIyhGflxJ",
        "outputId": "d2279369-acf9-48ab-eab0-b6aa759b1673"
      },
      "source": [
        "accuracy = run_model(S, W, T, 100, -1, 0.4)\n",
        "print_result(accuracy, 40, 'Negative')"
      ],
      "execution_count": null,
      "outputs": [
        {
          "output_type": "stream",
          "text": [
            "Result of making 40% of data Negative:\n",
            "A Accuracy is: 40.0%\n",
            "B Accuracy is: 30.0%\n",
            "C Accuracy is: 54.0%\n"
          ],
          "name": "stdout"
        }
      ]
    },
    {
      "cell_type": "markdown",
      "metadata": {
        "id": "3Vo44PL6jbQQ"
      },
      "source": [
        "### Test with [0, -1, -1]"
      ]
    },
    {
      "cell_type": "code",
      "metadata": {
        "colab": {
          "base_uri": "https://localhost:8080/"
        },
        "id": "AnwX4NLBfwzj",
        "outputId": "7176509c-fbfc-4159-a3a7-963761c415b9"
      },
      "source": [
        "prediction = bam(np.array([0, -1, -1]), S, T, W.T)\n",
        "\n",
        "print('Model Output = ')\n",
        "print(np.where(prediction.reshape(5, 3) == 1, '#', '.'))"
      ],
      "execution_count": null,
      "outputs": [
        {
          "output_type": "stream",
          "text": [
            "Model Output = \n",
            "[['.' '#' '.']\n",
            " ['#' '.' '#']\n",
            " ['#' '#' '#']\n",
            " ['#' '.' '#']\n",
            " ['#' '.' '#']]\n"
          ],
          "name": "stdout"
        }
      ]
    },
    {
      "cell_type": "markdown",
      "metadata": {
        "id": "U5dbcOTEj3tW"
      },
      "source": [
        "### Train Model for All"
      ]
    },
    {
      "cell_type": "code",
      "metadata": {
        "id": "laShW1HRjwin"
      },
      "source": [
        "S_all = np.array(list(words_5_3.values())).reshape(8, 15)\n",
        "T_all = np.array(list(outs.values()))\n",
        "W_all = do_hebbian_rule(S_all, T_all)"
      ],
      "execution_count": null,
      "outputs": []
    },
    {
      "cell_type": "code",
      "metadata": {
        "id": "WD4O3h9dkSmF",
        "colab": {
          "base_uri": "https://localhost:8080/"
        },
        "outputId": "ece3894d-538f-41bd-e0f2-b96e805fa146"
      },
      "source": [
        "print(W_all)"
      ],
      "execution_count": null,
      "outputs": [
        {
          "output_type": "stream",
          "text": [
            "[[ 2 -2  6]\n",
            " [-2 -2 -2]\n",
            " [ 6  2 -2]\n",
            " [ 0  0  0]\n",
            " [ 0  0  0]\n",
            " [-4  0  4]\n",
            " [ 0  0  0]\n",
            " [ 2 -6  2]\n",
            " [ 0  4  0]\n",
            " [ 0  0  0]\n",
            " [ 0  0  0]\n",
            " [-2  2  2]\n",
            " [ 0 -4  4]\n",
            " [-2  2 -2]\n",
            " [ 2  2 -6]]\n"
          ],
          "name": "stdout"
        }
      ]
    },
    {
      "cell_type": "markdown",
      "metadata": {
        "id": "TLaMAkRAkZ81"
      },
      "source": [
        "Test Model"
      ]
    },
    {
      "cell_type": "code",
      "metadata": {
        "id": "7DZX9tMYkUt_",
        "colab": {
          "base_uri": "https://localhost:8080/"
        },
        "outputId": "d3d29882-1d54-4c46-8ec5-3926dc047963"
      },
      "source": [
        "for i in range(len(S_all)):\n",
        "  prediction = bam(S_all[i], T_all, S_all, W_all)\n",
        "  print('{}:'.format(list(outs.keys())[i]))\n",
        "  print('Actual Output = {}, Model Output = {}'.format(T_all[i], prediction))"
      ],
      "execution_count": null,
      "outputs": [
        {
          "output_type": "stream",
          "text": [
            "A:\n",
            "Actual Output = [-1 -1 -1], Model Output = [-1 -1  1]\n",
            "B:\n",
            "Actual Output = [-1 -1  1], Model Output = [-1 -1  1]\n",
            "C:\n",
            "Actual Output = [-1  1 -1], Model Output = [ 1  1 -1]\n",
            "D:\n",
            "Actual Output = [-1  1  1], Model Output = [-1  1  1]\n",
            "E:\n",
            "Actual Output = [ 1 -1 -1], Model Output = [ 1 -1 -1]\n",
            "F:\n",
            "Actual Output = [ 1 -1  1], Model Output = [ 1 -1  1]\n",
            "G:\n",
            "Actual Output = [ 1  1 -1], Model Output = [ 1  1 -1]\n",
            "H:\n",
            "Actual Output = [1 1 1], Model Output = [ 1 -1  1]\n"
          ],
          "name": "stdout"
        }
      ]
    },
    {
      "cell_type": "code",
      "metadata": {
        "id": "JX0qH4EMBOGZ"
      },
      "source": [
        "S_4 = np.array(list(words_5_3.values())[0:4]).reshape(4, 15)\n",
        "T_4 = np.array(list(outs.values())[0:4])\n",
        "W_4 = do_hebbian_rule(S_4, T_4)"
      ],
      "execution_count": null,
      "outputs": []
    },
    {
      "cell_type": "code",
      "metadata": {
        "colab": {
          "base_uri": "https://localhost:8080/"
        },
        "id": "ue_K0H25Bg4x",
        "outputId": "da1c4f16-8c3f-4d18-e7df-812e3d6d6ba6"
      },
      "source": [
        "for i in range(len(S_4)):\n",
        "  prediction = bam(S_4[i], T_4, S_4, W_4)\n",
        "  print('{}:'.format(list(outs.keys())[i]))\n",
        "  print('Actual Output = {}, Model Output = {}'.format(T_4[i], prediction))"
      ],
      "execution_count": null,
      "outputs": [
        {
          "output_type": "stream",
          "text": [
            "A:\n",
            "Actual Output = [-1 -1 -1], Model Output = [-1 -1 -1]\n",
            "B:\n",
            "Actual Output = [-1 -1  1], Model Output = [-1 -1  1]\n",
            "C:\n",
            "Actual Output = [-1  1 -1], Model Output = [-1  1 -1]\n",
            "D:\n",
            "Actual Output = [-1  1  1], Model Output = [-1 -1  1]\n"
          ],
          "name": "stdout"
        }
      ]
    },
    {
      "cell_type": "code",
      "metadata": {
        "id": "ISWATfUpBsoR"
      },
      "source": [
        "S_5 = np.array(list(words_5_3.values())[0:5]).reshape(5, 15)\n",
        "T_5 = np.array(list(outs.values())[0:5])\n",
        "W_5 = do_hebbian_rule(S_5, T_5)"
      ],
      "execution_count": null,
      "outputs": []
    },
    {
      "cell_type": "code",
      "metadata": {
        "colab": {
          "base_uri": "https://localhost:8080/"
        },
        "id": "PRkqoQ6VB0w5",
        "outputId": "43f487c7-c844-42e8-cf19-da7bdf1651e8"
      },
      "source": [
        "for i in range(len(S_5)):\n",
        "  prediction = bam(S_5[i], T_5, S_5, W_5)\n",
        "  print('{}:'.format(list(outs.keys())[i]))\n",
        "  print('Actual Output = {}, Model Output = {}'.format(T_5[i], prediction))"
      ],
      "execution_count": null,
      "outputs": [
        {
          "output_type": "stream",
          "text": [
            "A:\n",
            "Actual Output = [-1 -1 -1], Model Output = [-1 -1 -1]\n",
            "B:\n",
            "Actual Output = [-1 -1  1], Model Output = [-1 -1  1]\n",
            "C:\n",
            "Actual Output = [-1  1 -1], Model Output = [-1  1 -1]\n",
            "D:\n",
            "Actual Output = [-1  1  1], Model Output = [-1 -1  1]\n",
            "E:\n",
            "Actual Output = [ 1 -1 -1], Model Output = [-1 -1 -1]\n"
          ],
          "name": "stdout"
        }
      ]
    },
    {
      "cell_type": "markdown",
      "metadata": {
        "id": "sFz43EgPlRv0"
      },
      "source": [
        "### Hamming Distance"
      ]
    },
    {
      "cell_type": "code",
      "metadata": {
        "id": "msjdzsn5lDjM"
      },
      "source": [
        "def find_hamming_distance(words, patterns):\n",
        "  hammings = {}\n",
        "  for x in words:\n",
        "    hammings[x] = {}\n",
        "    for y in words:\n",
        "      hammings[x][y] = (np.array(patterns[x]) != np.array(patterns[y])).sum()\n",
        "  return hammings"
      ],
      "execution_count": null,
      "outputs": []
    },
    {
      "cell_type": "code",
      "metadata": {
        "id": "2PMOEmsQnJoO"
      },
      "source": [
        "hammings = find_hamming_distance(list(words_5_3.keys()), words_5_3)"
      ],
      "execution_count": null,
      "outputs": []
    },
    {
      "cell_type": "code",
      "metadata": {
        "id": "80m0pwhVnWMT",
        "colab": {
          "base_uri": "https://localhost:8080/"
        },
        "outputId": "951b0538-de6a-45cf-cf4f-3276fcb4af82"
      },
      "source": [
        "hammings"
      ],
      "execution_count": null,
      "outputs": [
        {
          "output_type": "execute_result",
          "data": {
            "text/plain": [
              "{'A': {'A': 0, 'B': 4, 'C': 7, 'D': 4, 'E': 6, 'F': 6, 'G': 5, 'H': 3},\n",
              " 'B': {'A': 4, 'B': 0, 'C': 7, 'D': 2, 'E': 4, 'F': 4, 'G': 7, 'H': 5},\n",
              " 'C': {'A': 7, 'B': 7, 'C': 0, 'D': 7, 'E': 3, 'F': 5, 'G': 2, 'H': 8},\n",
              " 'D': {'A': 4, 'B': 2, 'C': 7, 'D': 0, 'E': 6, 'F': 6, 'G': 5, 'H': 5},\n",
              " 'E': {'A': 6, 'B': 4, 'C': 3, 'D': 6, 'E': 0, 'F': 2, 'G': 5, 'H': 5},\n",
              " 'F': {'A': 6, 'B': 4, 'C': 5, 'D': 6, 'E': 2, 'F': 0, 'G': 7, 'H': 5},\n",
              " 'G': {'A': 5, 'B': 7, 'C': 2, 'D': 5, 'E': 5, 'F': 7, 'G': 0, 'H': 6},\n",
              " 'H': {'A': 3, 'B': 5, 'C': 8, 'D': 5, 'E': 5, 'F': 5, 'G': 6, 'H': 0}}"
            ]
          },
          "metadata": {
            "tags": []
          },
          "execution_count": 109
        }
      ]
    },
    {
      "cell_type": "code",
      "metadata": {
        "id": "NBwzcLiNoHB1",
        "colab": {
          "base_uri": "https://localhost:8080/",
          "height": 592
        },
        "outputId": "dfb440e5-55c2-4e87-e5e5-a56f15b5c472"
      },
      "source": [
        "plt.figure(figsize=(12,10))\n",
        "for data_dict in hammings.values():\n",
        "   x = data_dict.keys()\n",
        "   y = data_dict.values()\n",
        "   plt.scatter(x,y)\n",
        "\n",
        "plt.legend(hammings.keys())\n",
        "plt.show()"
      ],
      "execution_count": null,
      "outputs": [
        {
          "output_type": "display_data",
          "data": {
            "image/png": "[encoded data removed]",
            "text/plain": [
              "<Figure size 864x720 with 1 Axes>"
            ]
          },
          "metadata": {
            "tags": [],
            "needs_background": "light"
          }
        }
      ]
    },
    {
      "cell_type": "code",
      "metadata": {
        "id": "AIHL6QJgpIS7"
      },
      "source": [
        ""
      ],
      "execution_count": null,
      "outputs": []
    }
  ]
}
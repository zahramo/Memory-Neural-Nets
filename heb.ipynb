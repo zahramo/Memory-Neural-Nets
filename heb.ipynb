{
  "nbformat": 4,
  "nbformat_minor": 0,
  "metadata": {
    "colab": {
      "name": "NNDL HW3 Q1.ipynb",
      "provenance": []
    },
    "kernelspec": {
      "name": "python3",
      "display_name": "Python 3"
    },
    "language_info": {
      "name": "python"
    }
  },
  "cells": [
    {
      "cell_type": "markdown",
      "metadata": {
        "id": "GpGur-B4VDAM"
      },
      "source": [
        "# **1 - Hebbian Rule**"
      ]
    },
    {
      "cell_type": "code",
      "metadata": {
        "id": "tIb3nO01E77G"
      },
      "source": [
        "import numpy as np\n",
        "import random"
      ],
      "execution_count": 29,
      "outputs": []
    },
    {
      "cell_type": "markdown",
      "metadata": {
        "id": "9rn4nhbCY1e5"
      },
      "source": [
        "### 9*7 Pattern"
      ]
    },
    {
      "cell_type": "code",
      "metadata": {
        "id": "jI_CwRf3McjA"
      },
      "source": [
        "words_9_7 = {}\n",
        "words_9_7['A'] = [[-1 for i in range(7)] for j in range(9)]\n",
        "words_9_7['B'] = [[-1 for i in range(7)] for j in range(9)]\n",
        "words_9_7['C'] = [[-1 for i in range(7)] for j in range(9)]\n",
        "\n",
        "pattern_9_7 = {}\n",
        "pattern_9_7['A'] = [(0,3), (1,3), (2,3), (3,2), (3,4), (4,2), (4,4), (5, 1),\n",
        "                    (5, 2), (5, 3), (5, 4), (5, 5), (6, 1), (6, 5), (7, 1), \n",
        "                    (7, 5), (8, 0), (8, 1), (8, 2), (8, 4), (8, 5), (8, 6)]\n",
        "pattern_9_7['B'] = [(0, 0), (0, 1), (0, 2), (0, 3), (0, 4), (0, 5), (0, 6), \n",
        "                    (1, 0), (1, 6), (2, 0), (2, 5), (3, 0), (3, 4), (4, 0), \n",
        "                    (4, 1), (4, 2), (4, 3), (5, 0), (5, 4), (6, 0), (6, 5), \n",
        "                    (7, 0), (7, 6), (8, 0), (8, 1), (8, 2), (8, 3), (8, 4), \n",
        "                    (8, 5), (8, 6)]\n",
        "pattern_9_7['C'] = [(0, 2), (0, 3), (0, 4), (0, 5), (1, 1), (1, 6), (2, 0), \n",
        "                    (3, 0), (4, 0), (5, 0), (6, 0), (7, 1), (7, 6), (8, 2), \n",
        "                    (8, 3), (8, 4), (8, 5)]\n",
        "                    \n",
        "for pattern in pattern_9_7['A']:\n",
        "  words_9_7['A'][pattern[0]][pattern[1]] = 1\n",
        "\n",
        "for pattern in pattern_9_7['B']:\n",
        "  words_9_7['B'][pattern[0]][pattern[1]] = 1\n",
        "\n",
        "for pattern in pattern_9_7['C']:\n",
        "  words_9_7['C'][pattern[0]][pattern[1]] = 1"
      ],
      "execution_count": 5,
      "outputs": []
    },
    {
      "cell_type": "markdown",
      "metadata": {
        "id": "a7MwAF95ZPHy"
      },
      "source": [
        "### 5*3 Pattern"
      ]
    },
    {
      "cell_type": "code",
      "metadata": {
        "id": "VhH4nzS3Vwso"
      },
      "source": [
        "words_5_3 = {}\n",
        "words_5_3['A'] = [[-1 for i in range(3)] for j in range(5)]\n",
        "words_5_3['B'] = [[-1 for i in range(3)] for j in range(5)]\n",
        "words_5_3['C'] = [[-1 for i in range(3)] for j in range(5)]\n",
        "\n",
        "pattern_5_3 = {}\n",
        "pattern_5_3['A'] = [(0, 1), (1, 0), (1, 2), (2, 0), (2, 1), (2, 2), (3, 0), \n",
        "                    (3, 2), (4, 0), (4, 2)]\n",
        "pattern_5_3['B'] = [(0, 0), (0, 1), (1, 0), (1, 2), (2, 0), (2, 1), (3, 0),\n",
        "                    (3, 2), (4, 0), (4, 1)]\n",
        "pattern_5_3['C'] = [(0, 1), (0, 2), (1, 0), (2, 0), (3, 0), (4, 1), (4, 2)]\n",
        "\n",
        "for pattern in pattern_5_3['A']:\n",
        "  words_5_3['A'][pattern[0]][pattern[1]] = 1\n",
        "\n",
        "for pattern in pattern_5_3['B']:\n",
        "  words_5_3['B'][pattern[0]][pattern[1]] = 1\n",
        "\n",
        "for pattern in pattern_5_3['C']:\n",
        "  words_5_3['C'][pattern[0]][pattern[1]] = 1"
      ],
      "execution_count": 6,
      "outputs": []
    },
    {
      "cell_type": "code",
      "metadata": {
        "id": "muO4Omztn6-j"
      },
      "source": [
        "def do_hebbian_rule(s, t):\n",
        "  w = np.dot(s.T, t)\n",
        "  return w"
      ],
      "execution_count": 7,
      "outputs": []
    },
    {
      "cell_type": "code",
      "metadata": {
        "id": "WNzDY9lkDb93"
      },
      "source": [
        "def add_noise(noise_rate, inputs, alternative):\n",
        "  noisy_inputs = inputs.copy()\n",
        "  for input in noisy_inputs:\n",
        "    noise_count = int(noise_rate * len(input))\n",
        "    noises_index = random.sample(range(len(input)), noise_count)\n",
        "    for noise_index in noises_index:\n",
        "      input[noise_index] = alternative * input[noise_index]\n",
        "  return noisy_inputs"
      ],
      "execution_count": 20,
      "outputs": []
    },
    {
      "cell_type": "code",
      "metadata": {
        "id": "1OmK0WaMsg4P"
      },
      "source": [
        "def run_model(S, W, T, count, alternative, noise_rate):\n",
        "  correct_count = {'A':0, 'B':0, 'C':0}\n",
        "  accuracy = {'A':0, 'B':0, 'C':0, 'total':0}\n",
        "  for i in range(count):\n",
        "    s = add_noise(noise_rate, S, alternative)\n",
        "    predictions = np.dot(s, W)\n",
        "    predictions = np.where(predictions > 0, 1, -1)  \n",
        "    if(np.array_equal(predictions[0].reshape(5, 3), np.array(T['A']))): correct_count['A'] += 1\n",
        "    if(np.array_equal(predictions[1].reshape(5, 3), np.array(T['B']))): correct_count['B'] += 1\n",
        "    if(np.array_equal(predictions[2].reshape(5, 3), np.array(T['C']))): correct_count['C'] += 1\n",
        "  accuracy['A'] = float(correct_count['A']) / count\n",
        "  accuracy['B'] = float(correct_count['B']) / count\n",
        "  accuracy['C'] = float(correct_count['C']) / count\n",
        "  accuracy['total'] = float(correct_count['A'] + correct_count['B'] + correct_count['C']) / (count*3)\n",
        "  return accuracy"
      ],
      "execution_count": 26,
      "outputs": []
    },
    {
      "cell_type": "markdown",
      "metadata": {
        "id": "S5CYLLSSCGhb"
      },
      "source": [
        "### Train Model"
      ]
    },
    {
      "cell_type": "code",
      "metadata": {
        "id": "sU1w1zCqsm6F"
      },
      "source": [
        "S = np.array(list(words_9_7.values())).reshape(3, 63)\n",
        "T = np.array(list(words_5_3.values())).reshape(3, 15)\n",
        "W = do_hebbian_rule(S, T)"
      ],
      "execution_count": 27,
      "outputs": []
    },
    {
      "cell_type": "markdown",
      "metadata": {
        "id": "l4Hl6X4WDKQE"
      },
      "source": [
        "### Test Model with Correct Inputs"
      ]
    },
    {
      "cell_type": "code",
      "metadata": {
        "id": "uqyFrgX7GmwW"
      },
      "source": [
        "def print_result(accs, noise_percentage, noise):\n",
        "  if noise_percentage == 0: print('Result of correct data:')\n",
        "  else: print('Result of making {}% of data {}:'.format(noise_percentage, noise))\n",
        "  for word, acc in accs.items():\n",
        "    print('{} Accuracy is: {}%'.format(word, acc*100))"
      ],
      "execution_count": 49,
      "outputs": []
    },
    {
      "cell_type": "code",
      "metadata": {
        "colab": {
          "base_uri": "https://localhost:8080/"
        },
        "id": "IeH-uP-FCSI9",
        "outputId": "be8cab96-06c6-4a5c-b728-de26ade46969"
      },
      "source": [
        "correct_acc = run_model(S, W, words_5_3, 100, 1, 0)\n",
        "print_result(correct_acc, 0, 0)"
      ],
      "execution_count": 50,
      "outputs": [
        {
          "output_type": "stream",
          "text": [
            "Result of correct data:\n",
            "A Accuracy is: 100.0%\n",
            "B Accuracy is: 100.0%\n",
            "C Accuracy is: 100.0%\n",
            "total Accuracy is: 100.0%\n"
          ],
          "name": "stdout"
        }
      ]
    },
    {
      "cell_type": "markdown",
      "metadata": {
        "id": "_QoPwWWjFA5B"
      },
      "source": [
        "### Test Model with Noisy Inputs"
      ]
    },
    {
      "cell_type": "markdown",
      "metadata": {
        "id": "tyDuKPpwFJcU"
      },
      "source": [
        "#### 10% Noise - Negative"
      ]
    },
    {
      "cell_type": "code",
      "metadata": {
        "colab": {
          "base_uri": "https://localhost:8080/"
        },
        "id": "kR3Djga8EjHs",
        "outputId": "bc709645-001e-44b8-9128-6f6bc5958fd9"
      },
      "source": [
        "noisy_acc = run_model(S, W, words_5_3, 100, -1, 0.1)\n",
        "print_result(noisy_acc, 10, 'Negative')"
      ],
      "execution_count": 51,
      "outputs": [
        {
          "output_type": "stream",
          "text": [
            "Result of making 10% of data Negative:\n",
            "A Accuracy is: 100.0%\n",
            "B Accuracy is: 100.0%\n",
            "C Accuracy is: 100.0%\n",
            "total Accuracy is: 100.0%\n"
          ],
          "name": "stdout"
        }
      ]
    },
    {
      "cell_type": "markdown",
      "metadata": {
        "id": "Z2hHFrcXFWAQ"
      },
      "source": [
        "#### 25% Noise - Negative"
      ]
    },
    {
      "cell_type": "code",
      "metadata": {
        "colab": {
          "base_uri": "https://localhost:8080/"
        },
        "id": "c7Psd5jDFSIS",
        "outputId": "66c8b6d9-a8ba-44f6-fd41-5e4d36b3b1c0"
      },
      "source": [
        "noisy_acc = run_model(S, W, words_5_3, 100, -1, 0.25)\n",
        "print_result(noisy_acc, 25, 'Negative')"
      ],
      "execution_count": 52,
      "outputs": [
        {
          "output_type": "stream",
          "text": [
            "Result of making 25% of data Negative:\n",
            "A Accuracy is: 99.0%\n",
            "B Accuracy is: 95.0%\n",
            "C Accuracy is: 94.0%\n",
            "total Accuracy is: 96.0%\n"
          ],
          "name": "stdout"
        }
      ]
    },
    {
      "cell_type": "markdown",
      "metadata": {
        "id": "GHhqIvqtFbx-"
      },
      "source": [
        "#### 10% Noise - Zero"
      ]
    },
    {
      "cell_type": "code",
      "metadata": {
        "colab": {
          "base_uri": "https://localhost:8080/"
        },
        "id": "HJadP2qwFZ3i",
        "outputId": "0b3e19d4-83e7-4b6d-c88f-a0092031ea7d"
      },
      "source": [
        "noisy_acc = run_model(S, W, words_5_3, 100, 0, 0.1)\n",
        "print_result(noisy_acc, 10, 'Zero')"
      ],
      "execution_count": 53,
      "outputs": [
        {
          "output_type": "stream",
          "text": [
            "Result of making 10% of data Zero:\n",
            "A Accuracy is: 100.0%\n",
            "B Accuracy is: 100.0%\n",
            "C Accuracy is: 100.0%\n",
            "total Accuracy is: 100.0%\n"
          ],
          "name": "stdout"
        }
      ]
    },
    {
      "cell_type": "markdown",
      "metadata": {
        "id": "_-sQdKKTGATv"
      },
      "source": [
        "25% Noise - Zero"
      ]
    },
    {
      "cell_type": "code",
      "metadata": {
        "colab": {
          "base_uri": "https://localhost:8080/"
        },
        "id": "Ta-vaedfF_Qc",
        "outputId": "9c15c532-95e0-4d43-b960-3d3d5ec5b2c2"
      },
      "source": [
        "noisy_acc = run_model(S, W, words_5_3, 100, 0, 0.25)\n",
        "print_result(noisy_acc, 25, 'Zero')"
      ],
      "execution_count": 55,
      "outputs": [
        {
          "output_type": "stream",
          "text": [
            "Result of making 25% of data Zero:\n",
            "A Accuracy is: 100.0%\n",
            "B Accuracy is: 100.0%\n",
            "C Accuracy is: 100.0%\n",
            "total Accuracy is: 100.0%\n"
          ],
          "name": "stdout"
        }
      ]
    }
  ]
}
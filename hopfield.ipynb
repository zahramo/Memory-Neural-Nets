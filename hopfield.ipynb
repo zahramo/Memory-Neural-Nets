{
  "nbformat": 4,
  "nbformat_minor": 0,
  "metadata": {
    "colab": {
      "name": "NNDL HW3 Q3.ipynb",
      "provenance": [],
      "collapsed_sections": []
    },
    "kernelspec": {
      "name": "python3",
      "display_name": "Python 3"
    },
    "language_info": {
      "name": "python"
    }
  },
  "cells": [
    {
      "cell_type": "markdown",
      "metadata": {
        "id": "ye-hH7rSE_k1"
      },
      "source": [
        "# **3 - Hopfield Network**"
      ]
    },
    {
      "cell_type": "code",
      "metadata": {
        "id": "SxKXlg2KE79-"
      },
      "source": [
        "import random\n",
        "import numpy as np\n",
        "import matplotlib.pyplot as plt"
      ],
      "execution_count": null,
      "outputs": []
    },
    {
      "cell_type": "markdown",
      "metadata": {
        "id": "sE8oeyNQflSb"
      },
      "source": [
        "### 0,1 Pattern"
      ]
    },
    {
      "cell_type": "code",
      "metadata": {
        "id": "o2BbxrSPfRzf"
      },
      "source": [
        "numbers = {}\n",
        "numbers[0] = [[1 for i in range(8)] for j in range(8)]\n",
        "numbers[1] = [[-1 for i in range(8)] for j in range(8)]\n",
        "\n",
        "patterns = {}\n",
        "patterns[0] = [(i, j) for i in range(2, 6) for j in range(2, 6)]\n",
        "patterns[1] = [(0, 2), (0, 3), (0, 4), (1, 2), (1, 3), (1, 4), (2, 3), \n",
        "              (2, 4), (3, 3), (3, 4), (4, 3), (4, 4), (5, 3), (5, 4), \n",
        "              (6, 3), (6, 4), (7, 3), (7, 4)]\n",
        "\n",
        "for pattern in patterns[0]:\n",
        "  numbers[0][pattern[0]][pattern[1]] = -1\n",
        "\n",
        "for pattern in patterns[1]:\n",
        "  numbers[1][pattern[0]][pattern[1]] = 1"
      ],
      "execution_count": null,
      "outputs": []
    },
    {
      "cell_type": "code",
      "metadata": {
        "id": "4CacBz0kfJYn"
      },
      "source": [
        "def do_hebbian_rule(s, t):\n",
        "  w = np.dot(s.T, t)\n",
        "  return w - np.identity(len(s.T))"
      ],
      "execution_count": null,
      "outputs": []
    },
    {
      "cell_type": "code",
      "metadata": {
        "id": "cUQ45hZLjUJE"
      },
      "source": [
        "def add_noise(noise_rate, inputs, alternative):\n",
        "  noisy_inputs = inputs.copy()\n",
        "  for input in noisy_inputs:\n",
        "    noise_count = int(noise_rate * len(input))\n",
        "    noises_index = random.sample(range(len(input)), noise_count)\n",
        "    for noise_index in noises_index:\n",
        "      input[noise_index] = alternative * input[noise_index]\n",
        "  return noisy_inputs"
      ],
      "execution_count": null,
      "outputs": []
    },
    {
      "cell_type": "code",
      "metadata": {
        "id": "dHPzxMGchW-5"
      },
      "source": [
        "S =  np.array(list(numbers.values())).reshape(2, 64)\n",
        "W = do_hebbian_rule(S, S)"
      ],
      "execution_count": null,
      "outputs": []
    },
    {
      "cell_type": "code",
      "metadata": {
        "id": "UhnAntt3h_x-"
      },
      "source": [
        "def run_model(S, W, iterate_num=30):\n",
        "  correct_count = {0:[], 1:[]}\n",
        "  noise_rates = [0, 0.1, 0.2, 0.3, 0.4, 0.5, 0.6 , 0.7, 0.8, 0.9, 1]\n",
        "  for noise_rate in noise_rates:\n",
        "    noisy_S = add_noise(noise_rate, S, -1)\n",
        "    zero_prediction =  hopfield(np.array([noisy_S[0]]), W, iterate_num)\n",
        "    one_predicttion = hopfield(np.array([noisy_S[1]]), W, iterate_num)\n",
        "    correct_count[0].append((zero_prediction == S[0]).sum())\n",
        "    correct_count[1].append((one_predicttion == S[1]).sum())\n",
        "\n",
        "  return correct_count, noise_rates"
      ],
      "execution_count": null,
      "outputs": []
    },
    {
      "cell_type": "code",
      "metadata": {
        "id": "Z3A80PQ23rhz"
      },
      "source": [
        "def plot_result(correct_counts, noises):\n",
        "  plt.figure(figsize=(12,10))\n",
        "  plt.xlabel('Noise Percentage')\n",
        "  plt.ylabel('Hamming Distance')\n",
        "  # plt.title('Auto-assosiative Network Accuracy with Random Vectors')\n",
        "  for number, count in correct_counts.items():\n",
        "      plt.plot(np.array(noises)*100, 64 - np.array(count), label = 'Result for {} Number'.format(number))\n",
        "  plt.legend()\n",
        "  plt.show()"
      ],
      "execution_count": null,
      "outputs": []
    },
    {
      "cell_type": "code",
      "metadata": {
        "id": "nq60NfoImqtV"
      },
      "source": [
        "def hopfield(s,  W, iterate_num=30):\n",
        "  converged = False\n",
        "  previous_y = []\n",
        "  for run in range(iterate_num):\n",
        "    if converged: break\n",
        "    # Step 1\n",
        "    for x in s:\n",
        "      # Step 2\n",
        "      y = x.copy()\n",
        "      # Step 3\n",
        "      random_order = random.sample(range(len(y)), len(y))\n",
        "      for i in random_order:\n",
        "        # Step 4\n",
        "        y_in = y[i] + np.dot(y, W.T[i])\n",
        "        # Step 5, 6\n",
        "        if y_in > 0: y[i] = 1\n",
        "        else: y[i] = -1\n",
        "      # Step 7\n",
        "      exist_loop = False\n",
        "      for previous in previous_y:\n",
        "        if np.array_equal(y, previous):\n",
        "          exist_loop = True\n",
        "          break\n",
        "      if exist_loop or np.array_equal(y, x):\n",
        "        converged = True\n",
        "      previous_y.append(y.copy())\n",
        "  return previous_y[-1]"
      ],
      "execution_count": null,
      "outputs": []
    },
    {
      "cell_type": "markdown",
      "metadata": {
        "id": "_-sokOzt56Dz"
      },
      "source": [
        "### Test with 30% Mistake"
      ]
    },
    {
      "cell_type": "code",
      "metadata": {
        "colab": {
          "base_uri": "https://localhost:8080/"
        },
        "id": "NU10konF6Ap4",
        "outputId": "d806234d-1a1b-42fe-ac21-518f5fdb952d"
      },
      "source": [
        "noisy_S = add_noise(0.3, S, -1)\n",
        "zero_prediction =  hopfield(np.array([noisy_S[0]]), W, 30)\n",
        "one_predicttion = hopfield(np.array([noisy_S[1]]), W, 30)\n",
        "\n",
        "print('Zero:')\n",
        "print(np.where(zero_prediction.reshape(8, 8) == 1, '#', '.'))\n",
        "print('One:')\n",
        "print(np.where(one_predicttion.reshape(8, 8) == 1, '#', '.'))"
      ],
      "execution_count": null,
      "outputs": [
        {
          "output_type": "stream",
          "text": [
            "Zero:\n",
            "[['#' '#' '#' '#' '#' '#' '#' '#']\n",
            " ['#' '#' '#' '#' '#' '#' '#' '#']\n",
            " ['#' '#' '.' '.' '.' '.' '#' '#']\n",
            " ['#' '#' '.' '.' '.' '.' '#' '#']\n",
            " ['#' '#' '.' '.' '.' '.' '#' '#']\n",
            " ['#' '#' '.' '.' '.' '.' '#' '#']\n",
            " ['#' '#' '#' '#' '#' '#' '#' '#']\n",
            " ['#' '#' '#' '#' '#' '#' '#' '#']]\n",
            "One:\n",
            "[['.' '.' '#' '#' '#' '.' '.' '.']\n",
            " ['.' '.' '#' '#' '#' '.' '.' '.']\n",
            " ['.' '.' '.' '#' '#' '.' '.' '.']\n",
            " ['.' '.' '.' '#' '#' '.' '.' '.']\n",
            " ['.' '.' '.' '#' '#' '.' '.' '.']\n",
            " ['.' '.' '.' '#' '#' '.' '.' '.']\n",
            " ['.' '.' '.' '#' '#' '.' '.' '.']\n",
            " ['.' '.' '.' '#' '#' '.' '.' '.']]\n"
          ],
          "name": "stdout"
        }
      ]
    },
    {
      "cell_type": "code",
      "metadata": {
        "id": "Ho3OaUFSp95J"
      },
      "source": [
        "correct_count, noises = run_model(S, W, 30)"
      ],
      "execution_count": null,
      "outputs": []
    },
    {
      "cell_type": "code",
      "metadata": {
        "colab": {
          "base_uri": "https://localhost:8080/",
          "height": 606
        },
        "id": "mBcqXTSnqZXy",
        "outputId": "b45b3a6f-83d5-4555-c700-53156787d64a"
      },
      "source": [
        "plot_result(correct_count, noises)"
      ],
      "execution_count": null,
      "outputs": [
        {
          "output_type": "display_data",
          "data": {
            "image/png": "[encoded data removed]",
            "text/plain": [
              "<Figure size 864x720 with 1 Axes>"
            ]
          },
          "metadata": {
            "tags": [],
            "needs_background": "light"
          }
        }
      ]
    }
  ]
}